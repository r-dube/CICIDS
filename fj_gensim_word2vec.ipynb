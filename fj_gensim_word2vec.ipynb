{
  "nbformat": 4,
  "nbformat_minor": 0,
  "metadata": {
    "colab": {
      "name": "fj_gensim_word2vec.ipynb",
      "provenance": [],
      "authorship_tag": "ABX9TyMAJr+C0DEJS5NDl/hmMAa+",
      "include_colab_link": true
    },
    "kernelspec": {
      "name": "python3",
      "display_name": "Python 3"
    }
  },
  "cells": [
    {
      "cell_type": "markdown",
      "metadata": {
        "id": "view-in-github",
        "colab_type": "text"
      },
      "source": [
        "<a href=\"https://colab.research.google.com/github/r-dube/CICIDS/blob/main/fj_gensim_word2vec.ipynb\" target=\"_parent\"><img src=\"https://colab.research.google.com/assets/colab-badge.svg\" alt=\"Open In Colab\"/></a>"
      ]
    },
    {
      "cell_type": "code",
      "metadata": {
        "colab": {
          "base_uri": "https://localhost:8080/"
        },
        "id": "Nr6yg6zvx67D",
        "outputId": "b283fbad-1e36-4980-bb2a-60e5bf7e47e5"
      },
      "source": [
        "# Mount drive\n",
        "from google.colab import drive\n",
        "drive.mount('/content/drive')"
      ],
      "execution_count": null,
      "outputs": [
        {
          "output_type": "stream",
          "text": [
            "Mounted at /content/drive\n"
          ],
          "name": "stdout"
        }
      ]
    },
    {
      "cell_type": "code",
      "metadata": {
        "id": "sIVbkeaOgMx9"
      },
      "source": [
        "from gensim import utils\n",
        "\n",
        "# Set file names\n",
        "corpus_file = \"/content/drive/My Drive/Data/fakejobs/fj_processed.txt\"\n",
        "# corpus_file = \"/content/drive/My Drive/Data/fakejobs/fj_small_processed.txt\"\n",
        "save_file = \"/content/drive/My Drive/Data/fakejobs/gensim_word2vec.mod\""
      ],
      "execution_count": null,
      "outputs": []
    },
    {
      "cell_type": "code",
      "metadata": {
        "id": "UL6QKL8QgQjI"
      },
      "source": [
        "class MyCorpus(object):\n",
        "    \"\"\"An interator that yields sentences (lists of str).\"\"\"\n",
        "\n",
        "    def __iter__(self):\n",
        "        for line in open(corpus_file):\n",
        "            # assume there's one document per line, tokens separated by whitespace\n",
        "            yield utils.simple_preprocess(line)"
      ],
      "execution_count": null,
      "outputs": []
    },
    {
      "cell_type": "code",
      "metadata": {
        "id": "14gpDJv1goei"
      },
      "source": [
        "import gensim.models\n",
        "\n",
        "sentences = MyCorpus()\n",
        "model = gensim.models.Word2Vec(sentences=sentences, size=32, iter=15)"
      ],
      "execution_count": null,
      "outputs": []
    },
    {
      "cell_type": "code",
      "metadata": {
        "id": "Z4BAgCkigw8n"
      },
      "source": [
        "model.save(save_file)"
      ],
      "execution_count": null,
      "outputs": []
    },
    {
      "cell_type": "code",
      "metadata": {
        "colab": {
          "base_uri": "https://localhost:8080/"
        },
        "id": "PWOBtdMahshf",
        "outputId": "75038bff-b8b9-486c-e6d3-5e55ec44f8c6"
      },
      "source": [
        "# Load in pre-trained word2vec word vectors\n",
        "word2vec_file = save_file\n",
        "print('Loading word vectors...')\n",
        "loaded_model = gensim.models.Word2Vec.load(word2vec_file)"
      ],
      "execution_count": null,
      "outputs": [
        {
          "output_type": "stream",
          "text": [
            "Loading word vectors...\n"
          ],
          "name": "stdout"
        }
      ]
    },
    {
      "cell_type": "code",
      "metadata": {
        "colab": {
          "base_uri": "https://localhost:8080/"
        },
        "id": "OM-HW2bgiLo5",
        "outputId": "756cfe8a-018c-4d7d-dd5c-8b5e4cd9f65d"
      },
      "source": [
        "# run some basic tests on the model\n",
        "print (\"job\" in model.wv.vocab)\n",
        "print (\"salary\" in model.wv.vocab)\n",
        "print (\"learn\" in model.wv.vocab)\n",
        "\n",
        "# print vector representaion\n",
        "print (model[\"job\"])\n",
        "\n",
        "# test similarity\n",
        "print(model.similarity(\"job\", \"salary\"))\n",
        "print(model.similarity(\"job\", \"learn\"))\n",
        "print(model.similarity(\"job\", \"job\"))"
      ],
      "execution_count": null,
      "outputs": [
        {
          "output_type": "stream",
          "text": [
            "True\n",
            "True\n",
            "True\n",
            "[ 4.0321097  -0.3374808  -3.4560301  -1.3579094  -0.5028198  -0.8024157\n",
            " -2.7202964  -2.5988283  -2.848216    0.609021   -2.9552982  -0.54665715\n",
            " -1.8323903   1.1695237  -1.665271    2.051805    2.567857    0.0344562\n",
            "  4.212646    0.848678    0.4606131  -3.469558   -0.9816214   4.343439\n",
            "  0.54242855 -0.85081935  1.324556    4.1714716   0.0492421  -0.16126288\n",
            " -0.5337629   3.9569163 ]\n",
            "0.31483254\n",
            "0.2814583\n",
            "1.0\n"
          ],
          "name": "stdout"
        },
        {
          "output_type": "stream",
          "text": [
            "/usr/local/lib/python3.6/dist-packages/ipykernel_launcher.py:7: DeprecationWarning: Call to deprecated `__getitem__` (Method will be removed in 4.0.0, use self.wv.__getitem__() instead).\n",
            "  import sys\n",
            "/usr/local/lib/python3.6/dist-packages/ipykernel_launcher.py:10: DeprecationWarning: Call to deprecated `similarity` (Method will be removed in 4.0.0, use self.wv.similarity() instead).\n",
            "  # Remove the CWD from sys.path while we load stuff.\n",
            "/usr/local/lib/python3.6/dist-packages/ipykernel_launcher.py:11: DeprecationWarning: Call to deprecated `similarity` (Method will be removed in 4.0.0, use self.wv.similarity() instead).\n",
            "  # This is added back by InteractiveShellApp.init_path()\n",
            "/usr/local/lib/python3.6/dist-packages/ipykernel_launcher.py:12: DeprecationWarning: Call to deprecated `similarity` (Method will be removed in 4.0.0, use self.wv.similarity() instead).\n",
            "  if sys.path[0] == '':\n"
          ],
          "name": "stderr"
        }
      ]
    }
  ]
}