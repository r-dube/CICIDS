{
  "nbformat": 4,
  "nbformat_minor": 0,
  "metadata": {
    "colab": {
      "name": "cicids_gmm.ipynb",
      "provenance": [],
      "collapsed_sections": [],
      "authorship_tag": "ABX9TyP01iYSltZqDHxgyDdyAlHo",
      "include_colab_link": true
    },
    "kernelspec": {
      "name": "python3",
      "display_name": "Python 3"
    }
  },
  "cells": [
    {
      "cell_type": "markdown",
      "metadata": {
        "id": "view-in-github",
        "colab_type": "text"
      },
      "source": [
        "<a href=\"https://colab.research.google.com/github/r-dube/CICIDS/blob/main/cicids_gmm.ipynb\" target=\"_parent\"><img src=\"https://colab.research.google.com/assets/colab-badge.svg\" alt=\"Open In Colab\"/></a>"
      ]
    },
    {
      "cell_type": "code",
      "metadata": {
        "id": "NFWTUL3GCHsG"
      },
      "source": [
        "# Load the top modules that are used in multiple places\n",
        "import numpy as np\n",
        "import pandas as pd"
      ],
      "execution_count": 2,
      "outputs": []
    },
    {
      "cell_type": "code",
      "metadata": {
        "id": "rrnTamUHDzxI"
      },
      "source": [
        "# Some global variables to drive the script\n",
        "# data_url is the location of the data\n",
        "# Data is not loaded from a local file\n",
        "# Data is loaded from a prepocessed dataset\n",
        "data_url=\"https://raw.githubusercontent.com/r-dube/CICIDS/main/MachineLearningCVE/processed/small-cicids2017.csv\""
      ],
      "execution_count": 3,
      "outputs": []
    },
    {
      "cell_type": "code",
      "metadata": {
        "id": "bYEbuZO0MHyf"
      },
      "source": [
        "# label names (YY) in the data and their\n",
        "# mapping to numerical values\n",
        "label_map = {\n",
        " 'BENIGN' : 0,\n",
        " 'FTP-Patator' : 1,\n",
        " 'SSH-Patator' : 2,\n",
        " 'DoS slowloris' : 3,\n",
        " 'DoS Slowhttptest': 4,\n",
        " 'DoS Hulk' : 5,\n",
        " 'DoS GoldenEye' : 6,\n",
        " 'Heartbleed' : 7,\n",
        " 'Web Attack � Brute Force' : 8,\n",
        " 'Web Attack � XSS' : 8,\n",
        " 'Web Attack � Sql Injection' : 8,\n",
        " 'Infiltration' : 9,\n",
        " 'Bot' : 10,\n",
        " 'PortScan' : 11,\n",
        " 'DDoS' : 12,\n",
        "}\n",
        "\n",
        "num_ids_features = 76\n",
        "num_ids_classes = 13\n",
        "ids_classes = [ 'BENIGN', 'FTP-Patator', 'SSH-Patator', 'DoS slowloris', 'DoS Slowhttptest', 'DoS Hulk', 'DoS GoldenEye', 'Heartbleed', 'Brute Force', 'XSS', 'Sql Injection', 'Infiltration', 'Bot', 'PortScan', 'DDoS',]"
      ],
      "execution_count": 4,
      "outputs": []
    },
    {
      "cell_type": "code",
      "metadata": {
        "id": "usYPD_l1Bimz"
      },
      "source": [
        "# Utility functions used by GMM\n",
        "\n",
        "def ids_load_df_from_csv():\n",
        "    \"\"\"\n",
        "    Load dataframe from csv file\n",
        "    Input:\n",
        "        None\n",
        "    Returns:\n",
        "        None\n",
        "    \"\"\"\n",
        "\n",
        "    df = pd.read_csv(data_url)\n",
        "\n",
        "    # uncomment print statements for debugging if data does not load\n",
        "    # print (\"load Dataframe shape\", df.shape)\n",
        "\n",
        "    return df\n",
        "\n",
        "def ids_gmm_std(df):\n",
        "    \"\"\"\n",
        "    Standardize rhe input dataframe\n",
        "    Input:\n",
        "        Dataframe that has columns of covariates followed by a column of labels\n",
        "    Returns:\n",
        "        X, y as numpy arrays\n",
        "    \"\"\"\n",
        "\n",
        "    from sklearn.model_selection import train_test_split\n",
        "    from sklearn.preprocessing import StandardScaler\n",
        "\n",
        "    numcols = len(df.columns)\n",
        "    print(\"df.shape\", df.shape)\n",
        "\n",
        "    X = df.iloc[:, 0:numcols-1]\n",
        "    y = df.loc[:, 'YY']\n",
        "\n",
        "    scaler = StandardScaler()\n",
        "    X = scaler.fit_transform(X)\n",
        "    y = y.values\n",
        "\n",
        "    print (\"X.shape\", X.shape, \"y.shape\", y.shape)\n",
        "\n",
        "    return X, y\n",
        "\n",
        "def ids_gmm_count(y_actual, y_pred):\n",
        "    \"\"\"\n",
        "    \"\"\"\n",
        "    c_a = np.sort(np.bincount(y_actual))\n",
        "    c_a = c_a[c_a != 0]\n",
        "    c_p = np.sort(np.bincount(y_pred))\n",
        "    c_p = c_p[c_p != 0]\n",
        "    print(c_a)\n",
        "    print(c_p)\n",
        "\n",
        "def ids_gmm_accuracy (y_actual, y_pred):\n",
        "    \"\"\"\n",
        "    Input:\n",
        "        Numpy arrays with actual and predicted labels\n",
        "    Returns:\n",
        "        multiclass accuracy and f1 scores\n",
        "    \"\"\"\n",
        "\n",
        "    from sklearn.metrics import accuracy_score\n",
        "    from sklearn.metrics import f1_score\n",
        "\n",
        "    acc = accuracy_score (y_actual, y_pred)\n",
        "    f1 = f1_score(y_actual, y_pred, average='macro')\n",
        "    \n",
        "    return acc, f1"
      ],
      "execution_count": 5,
      "outputs": []
    },
    {
      "cell_type": "code",
      "metadata": {
        "id": "9xi5c64xEcOZ",
        "outputId": "a0ace93b-4146-4922-891c-8d2b8ba7a9a6",
        "colab": {
          "base_uri": "https://localhost:8080/"
        }
      },
      "source": [
        "# Clustering using GMM\n",
        "from sklearn import mixture\n",
        "\n",
        "df = ids_load_df_from_csv ()\n",
        "X, y = ids_gmm_std(df)\n",
        "\n",
        "results_df = pd.DataFrame(columns=['run', 'components','seed', 'BIC'])\n",
        "maxrun = 5\n",
        "maxcomp = 25\n",
        "\n",
        "for run in range (maxrun):\n",
        "  for i in range (1, maxcomp + 1):\n",
        "    seed = 42 + run\n",
        "    clf = mixture.GaussianMixture(n_components=i, covariance_type='full', random_state=seed)\n",
        "    clf.fit(X)\n",
        "    bic = clf.bic(X)\n",
        "    index = run * maxcomp + i\n",
        "    results_df.loc[index, ['run']] = run\n",
        "    results_df.loc[index, ['components']] = i\n",
        "    results_df.loc[index, ['seed']] = seed\n",
        "    results_df.loc[index, ['BIC']] = bic\n",
        "    print (\"run\", run, \"i\", i, \"BIC\", bic)"
      ],
      "execution_count": null,
      "outputs": [
        {
          "output_type": "stream",
          "text": [
            "df.shape (39616, 77)\n",
            "X.shape (39616, 76) y.shape (39616,)\n",
            "run 0 i 1 BIC -12160060.530859668\n",
            "run 0 i 2 BIC -16580730.789570333\n",
            "run 0 i 3 BIC -18738155.91139818\n",
            "run 0 i 4 BIC -21002213.494001534\n",
            "run 0 i 5 BIC -21846982.27958644\n",
            "run 0 i 6 BIC -22868983.48832415\n",
            "run 0 i 7 BIC -25100810.779673476\n",
            "run 0 i 8 BIC -24818595.85774242\n",
            "run 0 i 9 BIC -24806149.405825708\n",
            "run 0 i 10 BIC -26006798.978197146\n",
            "run 0 i 11 BIC -26772894.44680431\n",
            "run 0 i 12 BIC -27056864.951428063\n",
            "run 0 i 13 BIC -27279420.469928805\n",
            "run 0 i 14 BIC -27048134.47678186\n",
            "run 0 i 15 BIC -28542204.976923145\n",
            "run 0 i 16 BIC -28717206.72260838\n",
            "run 0 i 17 BIC -28915295.793504853\n",
            "run 0 i 18 BIC -29007024.341821596\n",
            "run 0 i 19 BIC -29058055.56321362\n",
            "run 0 i 20 BIC -29165762.29537619\n",
            "run 0 i 21 BIC -29082600.43281226\n",
            "run 0 i 22 BIC -29055835.30158223\n",
            "run 0 i 23 BIC -29234193.61366384\n",
            "run 0 i 24 BIC -29176868.491083745\n",
            "run 0 i 25 BIC -29238027.3668958\n",
            "run 1 i 1 BIC -12160060.530859668\n",
            "run 1 i 2 BIC -14893537.130470363\n",
            "run 1 i 3 BIC -18489653.920539297\n",
            "run 1 i 4 BIC -18673480.420734547\n",
            "run 1 i 5 BIC -22634402.259328134\n",
            "run 1 i 6 BIC -23100822.41009625\n",
            "run 1 i 7 BIC -24824907.153084178\n",
            "run 1 i 8 BIC -25099870.101267643\n",
            "run 1 i 9 BIC -25817997.25792267\n",
            "run 1 i 10 BIC -26158937.10222088\n",
            "run 1 i 11 BIC -26467886.35494283\n",
            "run 1 i 12 BIC -26402332.825388893\n",
            "run 1 i 13 BIC -26295153.63078094\n",
            "run 1 i 14 BIC -27312496.413680065\n",
            "run 1 i 15 BIC -27353107.442605384\n",
            "run 1 i 16 BIC -27510602.14660948\n",
            "run 1 i 17 BIC -27656448.067278914\n",
            "run 1 i 18 BIC -28002723.75181946\n",
            "run 1 i 19 BIC -28173640.99286377\n",
            "run 1 i 20 BIC -28218757.367149234\n",
            "run 1 i 21 BIC -28873015.043320775\n",
            "run 1 i 22 BIC -28911371.196911708\n",
            "run 1 i 23 BIC -29030864.30793863\n",
            "run 1 i 24 BIC -28974203.650212195\n",
            "run 1 i 25 BIC -29046231.65375364\n",
            "run 2 i 1 BIC -12160060.530859668\n",
            "run 2 i 2 BIC -16580730.789570333\n",
            "run 2 i 3 BIC -20598100.543108024\n",
            "run 2 i 4 BIC -21632214.119589124\n",
            "run 2 i 5 BIC -21842916.66021067\n",
            "run 2 i 6 BIC -22118083.792094383\n",
            "run 2 i 7 BIC -22082310.626184616\n",
            "run 2 i 8 BIC -25112275.109277934\n",
            "run 2 i 9 BIC -25492010.178250507\n",
            "run 2 i 10 BIC -26138187.79526071\n",
            "run 2 i 11 BIC -26980434.889991675\n",
            "run 2 i 12 BIC -27095279.957562894\n",
            "run 2 i 13 BIC -27025001.13529793\n",
            "run 2 i 14 BIC -27706902.645014003\n",
            "run 2 i 15 BIC -27974672.820124973\n",
            "run 2 i 16 BIC -28181589.75197533\n",
            "run 2 i 17 BIC -28267102.908941686\n",
            "run 2 i 18 BIC -28407123.12770086\n",
            "run 2 i 19 BIC -28480317.334440168\n",
            "run 2 i 20 BIC -28890663.008735992\n",
            "run 2 i 21 BIC -28933568.300288323\n",
            "run 2 i 22 BIC -29003671.929890607\n",
            "run 2 i 23 BIC -29138649.922642443\n",
            "run 2 i 24 BIC -29114904.925500676\n",
            "run 2 i 25 BIC -29221557.542057727\n",
            "run 3 i 1 BIC -12160060.530859668\n",
            "run 3 i 2 BIC -17104566.15671232\n",
            "run 3 i 3 BIC -20828507.056415845\n",
            "run 3 i 4 BIC -21002213.494131804\n",
            "run 3 i 5 BIC -23679757.221704256\n",
            "run 3 i 6 BIC -24858352.255489927\n",
            "run 3 i 7 BIC -25024926.770589054\n",
            "run 3 i 8 BIC -23123205.92591177\n",
            "run 3 i 9 BIC -24349873.74955359\n",
            "run 3 i 10 BIC -24439187.754793305\n"
          ],
          "name": "stdout"
        }
      ]
    },
    {
      "cell_type": "code",
      "metadata": {
        "id": "t-CSy9CBXQAG",
        "outputId": "88518204-5f20-4108-82b8-eb6f83d3363f",
        "colab": {
          "base_uri": "https://localhost:8080/"
        }
      },
      "source": [
        "print(results_df)"
      ],
      "execution_count": 46,
      "outputs": [
        {
          "output_type": "stream",
          "text": [
            "    run components seed          BIC\n",
            "1     0          1   42 -1.21601e+07\n",
            "2     0          2   42 -1.65807e+07\n",
            "3     0          3   42 -1.87382e+07\n",
            "4     0          4   42 -2.10022e+07\n",
            "5     0          5   42  -2.1847e+07\n",
            "..   ..        ...  ...          ...\n",
            "121   4         21   46 -2.89935e+07\n",
            "122   4         22   46 -2.89618e+07\n",
            "123   4         23   46  -2.9005e+07\n",
            "124   4         24   46 -2.89741e+07\n",
            "125   4         25   46 -2.89071e+07\n",
            "\n",
            "[125 rows x 4 columns]\n"
          ],
          "name": "stdout"
        }
      ]
    },
    {
      "cell_type": "code",
      "metadata": {
        "id": "GFgb-exjGrtl"
      },
      "source": [
        "%matplotlib inline\n",
        "import matplotlib.pyplot as plt\n",
        "plt.style.use('seaborn-whitegrid')"
      ],
      "execution_count": 47,
      "outputs": []
    },
    {
      "cell_type": "code",
      "metadata": {
        "id": "ZVKWuP5AXi5b",
        "outputId": "61009c22-f36c-43da-8374-fb5548931c00",
        "colab": {
          "base_uri": "https://localhost:8080/",
          "height": 287
        }
      },
      "source": [
        "colors = ('black', 'blue', 'red', 'green', 'orange')\n",
        "for iter in range (1, 6):\n",
        "  low = (iter - 1) * maxcomp\n",
        "  high = (iter) * maxcomp\n",
        "  x = results_df[low:high].components.values\n",
        "  y = results_df[low:high].BIC.values\n",
        "  plt.xlabel(\"Number of components\")\n",
        "  plt.ylabel(\"Bayesian Information Criteria\")\n",
        "  plt.plot(x, y, '-', color=colors[iter-1])"
      ],
      "execution_count": 54,
      "outputs": [
        {
          "output_type": "display_data",
          "data": {
            "image/png": "[encoded data removed]",
            "text/plain": [
              "<Figure size 432x288 with 1 Axes>"
            ]
          },
          "metadata": {
            "tags": []
          }
        }
      ]
    }
  ]
}